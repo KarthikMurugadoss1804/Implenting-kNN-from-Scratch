{
 "cells": [
  {
   "cell_type": "code",
   "execution_count": 21,
   "metadata": {},
   "outputs": [],
   "source": [
    "import numpy as np\n",
    "import os\n",
    "from collections import Counter\n",
    "import matplotlib.pyplot as plt\n",
    "plt.style.use('seaborn-whitegrid')"
   ]
  },
  {
   "cell_type": "code",
   "execution_count": 22,
   "metadata": {},
   "outputs": [],
   "source": [
    "#Reading File\n",
    "os.chdir(\"C:/Users/karth/data/regression/ \")\n",
    "os.getcwd()\n",
    "\n",
    "# Reading Data, Splitting features and class in test and training Data\n",
    "def getdata(filename):\n",
    "    data=np.genfromtxt(filename, delimiter=\",\")\n",
    "    return data[:,:-1]  ,  data[:,-1] \n",
    "def calculate_distance(ndarray, onedarray):\n",
    "    broadcastedarray=np.tile(onedarray, (len(ndarray),1))\n",
    "    distance=np.sqrt(np.sum((ndarray-broadcastedarray)**2, axis=1))\n",
    "    return distance\n",
    "\n",
    "trainingFeatures, trainingClass = getdata(\"trainingData.csv\")\n",
    "testDataFeatures, testDataClass = getdata(\"testData.csv\")"
   ]
  },
  {
   "cell_type": "code",
   "execution_count": 29,
   "metadata": {},
   "outputs": [],
   "source": [
    "predictedvalues=[]\n",
    "def distance_weighted_regression(k,n):\n",
    "    average_value=np.mean(testDataClass)\n",
    "    \n",
    "    sum_of_squared_residuals=0\n",
    "    total_sum_of_squares=0\n",
    "    for i in range(len(testDataClass)):\n",
    "        euclidean_distance=calculate_distance(trainingFeatures,testDataFeatures[i])\n",
    "        sorted_index=np.argsort(euclidean_distance)[:k]\n",
    "        nearest_neighbours=trainingClass[sorted_index].copy()\n",
    "        nearest_neighbours_distance=1/(euclidean_distance[sorted_index]**n)\n",
    "        numerator=0\n",
    "        denominator=0\n",
    "        for j in range(k):\n",
    "            numerator+=((nearest_neighbours_distance[j]*nearest_neighbours[j]))\n",
    "            denominator+=nearest_neighbours_distance[j]\n",
    "        predicted_value=numerator/denominator\n",
    "        sum_of_squared_residuals+=(predicted_value-testDataClass[i])**2\n",
    "        total_sum_of_squares+=(average_value-testDataClass[i])**2\n",
    "        predictedvalues.append(predicted_value)\n",
    "    #     print(predicted_value)\n",
    "    R2=1-(sum_of_squared_residuals/total_sum_of_squares)\n",
    "    \n",
    "    return R2, predictedvalues\n",
    "\n"
   ]
  },
  {
   "cell_type": "code",
   "execution_count": 31,
   "metadata": {},
   "outputs": [],
   "source": [
    "R2, predictedvalues=distance_weighted_regression(10,3)\n"
   ]
  },
  {
   "cell_type": "code",
   "execution_count": null,
   "metadata": {},
   "outputs": [],
   "source": []
  }
 ],
 "metadata": {
  "kernelspec": {
   "display_name": "Python 3",
   "language": "python",
   "name": "python3"
  },
  "language_info": {
   "codemirror_mode": {
    "name": "ipython",
    "version": 3
   },
   "file_extension": ".py",
   "mimetype": "text/x-python",
   "name": "python",
   "nbconvert_exporter": "python",
   "pygments_lexer": "ipython3",
   "version": "3.6.9"
  }
 },
 "nbformat": 4,
 "nbformat_minor": 2
}
